{
 "cells": [
  {
   "cell_type": "code",
   "execution_count": null,
   "id": "86595197-7df2-4cec-921e-ec1d798a7a03",
   "metadata": {},
   "outputs": [],
   "source": [
    "import pandas as pd\n",
    "import numpy as np\n",
    "import matplotlib.pyplot as plt\n",
    "import seaborn as sns"
   ]
  },
  {
   "cell_type": "code",
   "execution_count": null,
   "id": "0641d95b-4a5a-460f-8435-3e4ef29dd1d6",
   "metadata": {},
   "outputs": [],
   "source": [
    "data = pd.read_csv(\"housing.csv\")"
   ]
  },
  {
   "cell_type": "code",
   "execution_count": null,
   "id": "617e20f1-478f-4205-8489-c20726d72a23",
   "metadata": {},
   "outputs": [],
   "source": [
    "data"
   ]
  },
  {
   "cell_type": "code",
   "execution_count": null,
   "id": "fd8adb34-e810-4ca5-8645-195ea5937bce",
   "metadata": {},
   "outputs": [],
   "source": [
    "data.info()"
   ]
  },
  {
   "cell_type": "code",
   "execution_count": null,
   "id": "5398012a-b400-4560-b841-5a3ded3fead7",
   "metadata": {},
   "outputs": [],
   "source": [
    "data.dropna(inplace = True)"
   ]
  },
  {
   "cell_type": "code",
   "execution_count": null,
   "id": "dacdc9b4-eb5d-486f-93e6-6f5a72eddfb1",
   "metadata": {},
   "outputs": [],
   "source": [
    "data.info()"
   ]
  },
  {
   "cell_type": "code",
   "execution_count": null,
   "id": "7d7b0ac7-306e-4631-a4f0-6e976256a6b0",
   "metadata": {},
   "outputs": [],
   "source": [
    "from sklearn.model_selection import train_test_split\n",
    "x = data.drop(['median_house_value'],axis = 1)\n",
    "y = data['median_house_value']"
   ]
  },
  {
   "cell_type": "code",
   "execution_count": null,
   "id": "d28c26e0-c806-4b13-89e5-32b99ce71cdd",
   "metadata": {},
   "outputs": [],
   "source": [
    "x_train , x_test , y_train , y_test  = train_test_split(x, y , test_size = 0.2)"
   ]
  },
  {
   "cell_type": "code",
   "execution_count": null,
   "id": "2b4a4d6c-7af6-4571-b994-ecc93f784c77",
   "metadata": {},
   "outputs": [],
   "source": [
    "train_data = x_train.join(y_train)"
   ]
  },
  {
   "cell_type": "code",
   "execution_count": null,
   "id": "2d86224f-2eff-4316-8476-d390cf87f376",
   "metadata": {},
   "outputs": [],
   "source": [
    "train_data"
   ]
  },
  {
   "cell_type": "code",
   "execution_count": null,
   "id": "cd03f9a0-833c-4fb9-b00f-43e790906cc0",
   "metadata": {},
   "outputs": [],
   "source": [
    "train_data.hist(figsize = (15,8))"
   ]
  },
  {
   "cell_type": "code",
   "execution_count": null,
   "id": "fd0fba3e-9fc4-453b-a1a1-b0a8eb6fd101",
   "metadata": {},
   "outputs": [],
   "source": [
    "plt.figure(figsize = (15,8))\n",
    "sns.heatmap(train_data.corr(numeric_only=True), annot=True , cmap ='YlGnBu')"
   ]
  },
  {
   "cell_type": "code",
   "execution_count": null,
   "id": "7ccc3666-361a-460d-99ef-bc2c53f515cc",
   "metadata": {},
   "outputs": [],
   "source": [
    "train_data['total_rooms'] = np.log(train_data['total_rooms'] + 1 )\n",
    "train_data['total_bedrooms'] = np.log(train_data['total_bedrooms'] + 1 )\n",
    "train_data['population'] = np.log(train_data['population'] + 1 )\n",
    "train_data['households'] = np.log(train_data['households'] + 1 )"
   ]
  },
  {
   "cell_type": "code",
   "execution_count": null,
   "id": "dea06d50-ec8f-4417-b3be-e263b4c19b86",
   "metadata": {},
   "outputs": [],
   "source": [
    "train_data.hist(figsize = (15,8))"
   ]
  },
  {
   "cell_type": "code",
   "execution_count": null,
   "id": "1b4d3aef-027d-48c4-8d71-1f15d6bf29e4",
   "metadata": {},
   "outputs": [],
   "source": [
    "train_data = train_data.join(pd.get_dummies(train_data.ocean_proximity)).drop(['ocean_proximity'], axis = 1)"
   ]
  },
  {
   "cell_type": "code",
   "execution_count": null,
   "id": "3027bd04-5254-457a-a5af-3e6513b274a7",
   "metadata": {},
   "outputs": [],
   "source": [
    "train_data"
   ]
  },
  {
   "cell_type": "code",
   "execution_count": null,
   "id": "01d02b54-2116-4b24-9398-8a430c34065d",
   "metadata": {},
   "outputs": [],
   "source": [
    "plt.figure(figsize = (15,8))\n",
    "sns.scatterplot(x=\"latitude\", y = \"longitude\" ,data=train_data, hue = \"median_house_value\" , palette =\"coolwarm\")"
   ]
  },
  {
   "cell_type": "code",
   "execution_count": null,
   "id": "2cb48022-cc97-4295-84e0-c488453f3a47",
   "metadata": {},
   "outputs": [],
   "source": [
    "train_data['bedrom_ratio'] = train_data['total_bedrooms'] / train_data['total_rooms']\n",
    "train_data['household_rooms'] = train_data['total_rooms'] / train_data['households']"
   ]
  },
  {
   "cell_type": "code",
   "execution_count": null,
   "id": "814d8b7e-eba2-4e22-97f9-1fcab7ffcd72",
   "metadata": {},
   "outputs": [],
   "source": [
    "from sklearn.linear_model import LinearRegression\n",
    "from sklearn.preprocessing import StandardScaler\n",
    "\n",
    "scaler = StandardScaler()\n",
    "\n",
    "x_train , y_train = train_data.drop(['median_house_value'] , axis=1),train_data['median_house_value']\n",
    "x_train_s = scaler.fit_transform(x_train)\n",
    "\n",
    "reg = LinearRegression()\n",
    "\n",
    "reg.fit(x_train,y_train)"
   ]
  },
  {
   "cell_type": "code",
   "execution_count": null,
   "id": "96075d78-0ae2-4962-b539-b4af7ecde9f0",
   "metadata": {},
   "outputs": [],
   "source": [
    "test_data = x_test.join(y_test)\n",
    "\n",
    "test_data['total_rooms'] = np.log(test_data['total_rooms'] + 1 )\n",
    "test_data['total_bedrooms'] = np.log(test_data['total_bedrooms'] + 1 )\n",
    "test_data['population'] = np.log(test_data['population'] + 1 )\n",
    "test_data['households'] = np.log(test_data['households'] + 1 )\n",
    "\n",
    "test_data = test_data.join(pd.get_dummies(test_data.ocean_proximity)).drop(['ocean_proximity'], axis = 1)\n",
    "\n",
    "test_data['bedrom_ratio'] = test_data['total_bedrooms'] / test_data['total_rooms']\n",
    "test_data['household_rooms'] = test_data['total_rooms'] / test_data['households']\n",
    "\n"
   ]
  },
  {
   "cell_type": "code",
   "execution_count": null,
   "id": "0d3fe751-dece-49e9-bcb7-bc93653827a8",
   "metadata": {},
   "outputs": [],
   "source": [
    "x_test , y_test = test_data.drop(['median_house_value'] , axis=1),test_data['median_house_value']"
   ]
  },
  {
   "cell_type": "code",
   "execution_count": null,
   "id": "447ea825-8850-46ef-9807-21ea456295e4",
   "metadata": {},
   "outputs": [],
   "source": [
    "x_test_s = scaler.transform(x_test)"
   ]
  },
  {
   "cell_type": "code",
   "execution_count": null,
   "id": "34fd9391-88ba-455d-9c54-fd1fcd2907f9",
   "metadata": {},
   "outputs": [],
   "source": [
    "reg.score(x_test_s,y_test)"
   ]
  },
  {
   "cell_type": "code",
   "execution_count": null,
   "id": "fb4c68ff-0238-43c7-94b0-077950881747",
   "metadata": {},
   "outputs": [],
   "source": [
    "from sklearn.ensemble import RandomForestRegressor\n",
    "\n",
    "forest = RandomForestRegressor()\n",
    "\n",
    "forest.fit(x_train_s,y_train)"
   ]
  },
  {
   "cell_type": "code",
   "execution_count": null,
   "id": "baf41463-a36e-4e6a-8359-b4130c9362dc",
   "metadata": {},
   "outputs": [],
   "source": [
    "forest.score(x_test_s,y_test)"
   ]
  },
  {
   "cell_type": "code",
   "execution_count": null,
   "id": "167bb7f6-2dfd-481d-963c-fbcff3c4881b",
   "metadata": {},
   "outputs": [],
   "source": [
    "from sklearn.model_selection import GridSearchCV\n",
    "\n",
    "param_grid = {\n",
    "    \"n_estimators\":[100,200,300],\n",
    "    \"min_samples_split\":[2,4],\n",
    "    \"max_depth\":[None,4,8]\n",
    "}\n",
    "\n",
    "grid_search = GridSearchCV(forest,param_grid, cv = 5,\n",
    "                           scoring =\"neg_mean_squared_error\",\n",
    "                           return_train_score=True)\n",
    "grid_search.fit(x_train_s,y_train)"
   ]
  },
  {
   "cell_type": "code",
   "execution_count": null,
   "id": "0beda323-d106-4650-9d5d-b7f7360b3242",
   "metadata": {},
   "outputs": [],
   "source": [
    "best_forest = grid_search.best_estimator_"
   ]
  },
  {
   "cell_type": "code",
   "execution_count": null,
   "id": "557abcf9-f911-491c-84ec-8b285496082a",
   "metadata": {},
   "outputs": [],
   "source": [
    "best_forest.score(x_test_s,y_test)"
   ]
  },
  {
   "cell_type": "code",
   "execution_count": null,
   "id": "a6b72b79-9a62-40fd-8c46-ef9de450bf6f",
   "metadata": {},
   "outputs": [],
   "source": []
  },
  {
   "cell_type": "code",
   "execution_count": null,
   "id": "6eb0e1cc-8be8-401f-9379-91205d004b1d",
   "metadata": {},
   "outputs": [],
   "source": []
  }
 ],
 "metadata": {
  "kernelspec": {
   "display_name": "Python 3 (ipykernel)",
   "language": "python",
   "name": "python3"
  },
  "language_info": {
   "codemirror_mode": {
    "name": "ipython",
    "version": 3
   },
   "file_extension": ".py",
   "mimetype": "text/x-python",
   "name": "python",
   "nbconvert_exporter": "python",
   "pygments_lexer": "ipython3",
   "version": "3.13.2"
  }
 },
 "nbformat": 4,
 "nbformat_minor": 5
}
